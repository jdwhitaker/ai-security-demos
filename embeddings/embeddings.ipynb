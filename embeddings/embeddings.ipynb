{
 "cells": [
  {
   "cell_type": "markdown",
   "metadata": {},
   "source": [
    "# Embeddings\n",
    "\n",
    "You've hopefully heard that encoding is not encryption, and that is equally true for embeddings. Embeddings are like a lossy form of encoding. Embeddings encode the semantics of an input into vector-space. "
   ]
  },
  {
   "cell_type": "code",
   "execution_count": 1,
   "metadata": {},
   "outputs": [
    {
     "name": "stderr",
     "output_type": "stream",
     "text": [
      "/Users/Justin.Whitaker/ai-security-demos/embeddings/.venv/lib/python3.10/site-packages/tqdm/auto.py:21: TqdmWarning: IProgress not found. Please update jupyter and ipywidgets. See https://ipywidgets.readthedocs.io/en/stable/user_install.html\n",
      "  from .autonotebook import tqdm as notebook_tqdm\n"
     ]
    }
   ],
   "source": [
    "from openai import OpenAI\n",
    "from sklearn.metrics.pairwise import cosine_similarity\n",
    "import numpy\n",
    "from dotenv import load_dotenv\n",
    "from sentence_transformers import SentenceTransformer\n",
    "import vec2text\n",
    "import transformers\n",
    "\n",
    "load_dotenv()\n",
    "client = OpenAI()\n",
    "\n",
    "def get_embedding(text, model=\"text-embedding-3-small\"):\n",
    "   text = text.replace(\"\\n\", \" \")\n",
    "   vector = numpy.array(client.embeddings.create(input = [text], model=model).data[0].embedding).reshape(1,-1)\n",
    "   return vector"
   ]
  },
  {
   "cell_type": "markdown",
   "metadata": {},
   "source": [
    "Semantically similar inputs will be closer in vector-space than dissimilar inputs."
   ]
  },
  {
   "cell_type": "code",
   "execution_count": 2,
   "metadata": {},
   "outputs": [
    {
     "name": "stdout",
     "output_type": "stream",
     "text": [
      "1.0   Yesterday, I went to the grocery store.\n",
      "0.228 I bought turtles.\n",
      "0.509 I bought food.\n",
      "0.57  I bought food earlier this week.\n",
      "0.574 I bought food yesterday from a restaurant.\n",
      "0.643 I bought food yesterday.\n",
      "0.697 I bought groceries a day ago.\n"
     ]
    }
   ],
   "source": [
    "terms = [\n",
    "    \"Yesterday, I went to the grocery store.\",\n",
    "    \"I bought turtles.\",\n",
    "    \"I bought food.\",\n",
    "    \"I bought food earlier this week.\",\n",
    "    \"I bought food yesterday from a restaurant.\",\n",
    "    \"I bought food yesterday.\",\n",
    "    \"I bought groceries a day ago.\",\n",
    "]\n",
    "embeddings = { term: get_embedding(term) for term in terms }\n",
    "for term in embeddings.keys():\n",
    "    term_embedding = numpy.array(embeddings[term]).reshape(1, -1)\n",
    "    similarity = cosine_similarity(embeddings[terms[0]], term_embedding)[0][0]\n",
    "    print(f\"{round(similarity,3):<5} {term}\")"
   ]
  },
  {
   "cell_type": "markdown",
   "metadata": {},
   "source": [
    "Although embeddings are unintelligble to us at first glance, the goal of embedding is to retain as much information about the input as possible when it gets mapped into vector-space. Because of this, you should assume that it is a reversible process. In fact, [The Information Engineering Lab](https://huggingface.co/ielabgroup) has published a model that excels at reversing embeddings back to their original text."
   ]
  },
  {
   "cell_type": "code",
   "execution_count": 3,
   "metadata": {},
   "outputs": [],
   "source": [
    "inversion_model = vec2text.models.InversionModel.from_pretrained(\n",
    "    \"ielabgroup/vec2text_gtr-base-st_inversion\"\n",
    ")\n",
    "model = vec2text.models.CorrectorEncoderModel.from_pretrained(\n",
    "    \"ielabgroup/vec2text_gtr-base-st_corrector\"\n",
    ")\n",
    "\n",
    "inversion_trainer = vec2text.trainers.InversionTrainer(\n",
    "    model=inversion_model,\n",
    "    train_dataset=None,\n",
    "    eval_dataset=None,\n",
    "    data_collator=transformers.DataCollatorForSeq2Seq(\n",
    "        inversion_model.tokenizer,\n",
    "        label_pad_token_id=-100,\n",
    "    ),\n",
    ")\n",
    "\n",
    "model.config.dispatch_batches = None\n",
    "corrector = vec2text.trainers.Corrector(\n",
    "    model=model,\n",
    "    inversion_trainer=inversion_trainer,\n",
    "    args=None,\n",
    "    data_collator=vec2text.collator.DataCollatorForCorrection(\n",
    "        tokenizer=inversion_trainer.model.tokenizer\n",
    "    ),\n",
    ")\n",
    "\n",
    "model = SentenceTransformer('sentence-transformers/gtr-t5-base')"
   ]
  },
  {
   "cell_type": "markdown",
   "metadata": {},
   "source": [
    "Here, I encode my favorite password into an embedding and then show how it can be retrieved again."
   ]
  },
  {
   "cell_type": "code",
   "execution_count": 7,
   "metadata": {},
   "outputs": [],
   "source": [
    "embeddings = model.encode([\n",
    "       \"ILoveTurtles\",\n",
    "], convert_to_tensor=True,).to('mps')\n"
   ]
  },
  {
   "cell_type": "code",
   "execution_count": 8,
   "metadata": {},
   "outputs": [
    {
     "name": "stdout",
     "output_type": "stream",
     "text": [
      "['           iLoveTurtles ']\n"
     ]
    }
   ],
   "source": [
    "embeddings = embeddings.clone().requires_grad_(True)\n",
    "reversed = vec2text.invert_embeddings(\n",
    "    embeddings=embeddings,\n",
    "    corrector=corrector,\n",
    "    num_steps=20,\n",
    ")\n",
    "\n",
    "print(reversed)"
   ]
  },
  {
   "cell_type": "markdown",
   "metadata": {},
   "source": [
    "You should secure embedded data to the same extent that you would secure the original data. Embedding does NOT reduce the sensitivity of information. Don't assume just because a vector is not readable at first glance that it doesn't contain sensitive information!"
   ]
  },
  {
   "cell_type": "markdown",
   "metadata": {},
   "source": []
  }
 ],
 "metadata": {
  "kernelspec": {
   "display_name": ".venv",
   "language": "python",
   "name": "python3"
  },
  "language_info": {
   "codemirror_mode": {
    "name": "ipython",
    "version": 3
   },
   "file_extension": ".py",
   "mimetype": "text/x-python",
   "name": "python",
   "nbconvert_exporter": "python",
   "pygments_lexer": "ipython3",
   "version": "3.10.19"
  }
 },
 "nbformat": 4,
 "nbformat_minor": 2
}
